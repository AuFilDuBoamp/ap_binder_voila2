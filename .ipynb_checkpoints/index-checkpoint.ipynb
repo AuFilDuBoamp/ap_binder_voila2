{
 "cells": [
  {
   "cell_type": "code",
   "execution_count": 1,
   "metadata": {},
   "outputs": [],
   "source": [
    "import pandas as pd\n",
    "import ipyleaflet as leaf\n",
    "from ipyleaflet import Map, basemaps, basemap_to_tiles, FullScreenControl, Marker, CircleMarker, Icon, AwesomeIcon, LayersControl, LayerGroup"
   ]
  },
  {
   "cell_type": "code",
   "execution_count": 2,
   "metadata": {
    "Collapsed": "false"
   },
   "outputs": [],
   "source": [
    "#### %run ipy\n",
    "annee ='2023'\n",
    "mois = '12' \n",
    "jour= '30'"
   ]
  },
  {
   "cell_type": "code",
   "execution_count": 3,
   "metadata": {
    "tags": []
   },
   "outputs": [],
   "source": [
    "df_boamp = pd.read_pickle(f'{annee}_{mois}_{jour}_map_df_temp_voila.pkl')"
   ]
  },
  {
   "cell_type": "code",
   "execution_count": 4,
   "metadata": {
    "Collapsed": "false"
   },
   "outputs": [
    {
     "data": {
      "application/vnd.jupyter.widget-view+json": {
       "model_id": "ca0aba2c274148d182ffdcafe58740e0",
       "version_major": 2,
       "version_minor": 0
      },
      "text/plain": [
       "Map(center=[48.86, 2.33], controls=(ZoomControl(options=['position', 'zoom_in_text', 'zoom_in_title', 'zoom_ou…"
      ]
     },
     "metadata": {},
     "output_type": "display_data"
    }
   ],
   "source": [
    "def ma_map(annee=annee, mois=mois, jour=jour):\n",
    "    import ipyleaflet as leaf    \n",
    "    import ipywidgets as wg\n",
    "    from ipywidgets import HTML\n",
    "    import pandas as pd\n",
    "    \n",
    "    df = pd.read_pickle(f'{annee}_{mois}_{jour}_map_df_temp_voila.pkl').dropna(subset=['latlong_new'])   \n",
    "    df = df.loc[~df.CP.eq('0None'),:]  \n",
    "    \n",
    "    groupe_attribution = LayerGroup(name='Attribution', layers=())\n",
    "    groupe_rectif = LayerGroup(name='Rectification', layers=())\n",
    "    groupe_appeloffre = LayerGroup(name='Appel d\\'offre', layers=())\n",
    "    groupe_modif = LayerGroup(name='Modification', layers=())\n",
    "    groupe_preinfo = LayerGroup(name='Pré-information', layers=())\n",
    "    groupe_intentionconclure = LayerGroup(name='Intention de conclure', layers=())\n",
    "        \n",
    "    \n",
    "    m = leaf.Map(center=(48.86, 2.33), zoom=6, scroll_wheel_zoom=True, )\n",
    "    m.add_control(FullScreenControl())\n",
    "    \n",
    "    for latlong_new, idweb, dateparution,\\\n",
    "    datefindiffusion, CP, nature, \\\n",
    "    famille_libelle, perimetre, etat,\\\n",
    "    criteres, nomacheteur,\\\n",
    "    VILLE, descripteur_libelle, objet\\\n",
    "    in zip(df.latlong_new, df.idweb, df.dateparution,\n",
    "           df.datefindiffusion, df.CP, df.nature,\n",
    "           df.famille_libelle, df.perimetre, df.etat,\n",
    "           df.criteres, df.nomacheteur,\n",
    "           df.VILLE, df.descripteur_libelle, df.objet\n",
    "          \n",
    "          ): \n",
    "        \n",
    "        iconrose = Icon(icon_url='https://www.aufilduboamp.com/partages/aufilduboamp_docs/afdb_icone_cercle_rose.png', icon_size=[60, 60])\n",
    "        \n",
    "        iconbleu = Icon(icon_url='https://www.aufilduboamp.com/partages/aufilduboamp_docs/afdb_icone_cercle_bleu.png', icon_size=[60, 60])\n",
    "        \n",
    "        iconvert = Icon(icon_url='https://www.aufilduboamp.com/partages/aufilduboamp_docs/afdb_icone_cercle_vert.png', icon_size=[60, 60])\n",
    "        \n",
    "        icongris = Icon(icon_url='https://www.aufilduboamp.com/partages/aufilduboamp_docs/afdb_icone_cercle_gris.png', icon_size=[60, 60])\n",
    "        \n",
    "        iconblanc = Icon(icon_url='https://www.aufilduboamp.com/partages/aufilduboamp_docs/afdb_icone_cercle_blanc.png', icon_size=[60, 60])\n",
    "        \n",
    "        \n",
    "        \n",
    "        \n",
    "        if nature =='ATTRIBUTION':\n",
    "            marker = leaf.Marker(location=latlong_new, draggable=False, icon=iconrose, name='marker_attribution' )\n",
    "            groupe_attribution.add(marker)\n",
    "            #m.add_layer(groupe_attribution)  \n",
    "            \n",
    "        elif nature =='RECTIFICATIF':\n",
    "            marker = leaf.Marker(location=latlong_new, draggable=False, icon=iconvert, name='marker_rectif' )\n",
    "            groupe_rectif.add(marker)\n",
    "            \n",
    "            \n",
    "        elif nature =='APPEL_OFFRE':\n",
    "            marker = leaf.Marker(location=latlong_new, draggable=False, icon=iconbleu, name='marker_appeloffre' )\n",
    "            groupe_appeloffre.add(marker) \n",
    "            \n",
    "            \n",
    "        elif nature =='MODIFICATION':\n",
    "            marker = leaf.Marker(location=latlong_new, draggable=False, icon=icongris, name='marker_modif' )\n",
    "            groupe_modif.add(marker)\n",
    "            \n",
    "            \n",
    "        elif nature =='PRE-INFORMATION':\n",
    "            marker = leaf.Marker(location=latlong_new, draggable=False, icon=iconblanc, name='marker_preinf' )\n",
    "            groupe_preinfo.add(marker)\n",
    "            \n",
    "            \n",
    "        elif nature == 'INTENTION_CONCLURE':       \n",
    "            marker = leaf.Marker(location=latlong_new, draggable=False, icon=iconblanc, name='marker_intention_c' )\n",
    "            groupe_intentionconclure.add(marker) \n",
    "        else:\n",
    "            pass    \n",
    "        \n",
    "        \n",
    "        marker.popup = wg.HTML(f'''<div style=\"background-color:white !important; padding:10px !important; min-width:400px !important;\">\n",
    "        <b>Consulter l'annonce complète sur BOAMP.fr ►</b><a href=\"https://www.boamp.fr/avis/detail/{idweb}\" target=\"_blank\"> {idweb}</a><br>\n",
    "        \n",
    "        <h2>Infos sur l'annonce</h2>    \n",
    "        <b>Date de publication :</b> {dateparution}<br>\n",
    "        <b>Date de fin de diffusion :</b> {datefindiffusion}<br>\n",
    "        <b>Code postal de publication :</b> {CP}<br>\n",
    "        \n",
    "        <b>Nature :</b> {nature}<br>\n",
    "        <b>Famille :</b> {famille_libelle}<br>\n",
    "        <b>Périmètre :</b> {perimetre}<br>\n",
    "        <b>État :</b> {etat}<br>\n",
    "        <b>Critères :</b> {criteres}<br>\n",
    "        \n",
    "        \n",
    "        <h2>Infos sur l'acheteur</h2>    \n",
    "        <b>Nom de l'acheteur :</b> {nomacheteur}<br>\n",
    "        <b>Localité de l'acheteur :</b> {VILLE}<br>        \n",
    "        \n",
    "        <h2>Infos sur le marché</h2>\n",
    "        <b>Libellés descripteurs :</b> {descripteur_libelle}<br>        \n",
    "        <b>Résumé de l'objet :</b> {objet}<br>\n",
    "        \n",
    "        <b>Consulter l'annonce complète sur BOAMP.fr ►</b><a href=\"https://www.boamp.fr/avis/detail/{idweb}\" target=\"_blank\"> {idweb}</a><br>\n",
    "        <div>''')\n",
    "        \n",
    "        \n",
    "        marker.title =  f'''Vers {VILLE} :\n",
    "        Date de publication de l'annonce au Boamp : {dateparution}\n",
    "        \n",
    "        \n",
    "        Objet du marché :\n",
    "        {objet}\n",
    "        \n",
    "        Nature : {nature}\n",
    "        Famille : {famille_libelle}\n",
    "        Périmètre : {perimetre}\n",
    "        État : {etat}\n",
    "        \n",
    "        Critères : {criteres}       \n",
    "        \n",
    "        Cliquer pour plus de détails et suivre un lien vers l'annonce sur boamp.fr.\n",
    "        '''\n",
    "        \n",
    "    control = LayersControl(position='topright')\n",
    "    m.add(control) \n",
    "    m.add(groupe_appeloffre)\n",
    "    m.add(groupe_attribution)\n",
    "    m.add(groupe_rectif)\n",
    "    \n",
    "    m.add(groupe_modif)\n",
    "    #m.add(groupe_preinfo)\n",
    "    #m.add(groupe_intentionconclure)\n",
    "    return m\n",
    "\n",
    "m = ma_map()\n",
    "display(m)"
   ]
  },
  {
   "cell_type": "code",
   "execution_count": null,
   "metadata": {},
   "outputs": [],
   "source": []
  },
  {
   "cell_type": "code",
   "execution_count": null,
   "metadata": {},
   "outputs": [],
   "source": []
  }
 ],
 "metadata": {
  "kernelspec": {
   "display_name": "Python 3 (ipykernel)",
   "language": "python",
   "name": "python3"
  },
  "language_info": {
   "codemirror_mode": {
    "name": "ipython",
    "version": 3
   },
   "file_extension": ".py",
   "mimetype": "text/x-python",
   "name": "python",
   "nbconvert_exporter": "python",
   "pygments_lexer": "ipython3",
   "version": "3.11.5"
  },
  "widgets": {
   "application/vnd.jupyter.widget-state+json": {
    "state": {},
    "version_major": 2,
    "version_minor": 0
   }
  }
 },
 "nbformat": 4,
 "nbformat_minor": 4
}
